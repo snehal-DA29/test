{
 "cells": [
  {
   "cell_type": "markdown",
   "id": "1af17b12-1190-457b-9261-be91f5e956b2",
   "metadata": {},
   "source": [
    "# Assignment from for loop"
   ]
  },
  {
   "cell_type": "markdown",
   "id": "fa44f4e7-07a6-4167-b138-3f376cb6a7b7",
   "metadata": {},
   "source": [
    "### You have two list 1st contains the price, 2nd contains quanity of purchase. I want the final bill amount also add 18% gst on top of amount"
   ]
  },
  {
   "cell_type": "code",
   "execution_count": 3,
   "id": "ac0e67f7-94ca-4e61-a37a-95bfec6fc34f",
   "metadata": {},
   "outputs": [],
   "source": [
    "prices = [100, 50, 300, 259, 999]\n",
    "qty = [5, 3, 10, 3, 1]"
   ]
  },
  {
   "cell_type": "code",
   "execution_count": 4,
   "id": "9eb23493-0859-4746-b0eb-156067abdd1b",
   "metadata": {},
   "outputs": [
    {
     "data": {
      "text/plain": [
       "5"
      ]
     },
     "execution_count": 4,
     "metadata": {},
     "output_type": "execute_result"
    }
   ],
   "source": [
    "len(prices)"
   ]
  },
  {
   "cell_type": "code",
   "execution_count": 5,
   "id": "5061e9ce-cfbf-4cfc-8d67-3baefc31ce95",
   "metadata": {},
   "outputs": [
    {
     "data": {
      "text/plain": [
       "5"
      ]
     },
     "execution_count": 5,
     "metadata": {},
     "output_type": "execute_result"
    }
   ],
   "source": [
    "len(qty)"
   ]
  },
  {
   "cell_type": "code",
   "execution_count": 12,
   "id": "bda8d679-bf22-4cea-aaee-c7cc87de4c38",
   "metadata": {},
   "outputs": [
    {
     "data": {
      "text/plain": [
       "<zip at 0x1ef9b8a1c80>"
      ]
     },
     "execution_count": 12,
     "metadata": {},
     "output_type": "execute_result"
    }
   ],
   "source": [
    "zip(prices, qty)"
   ]
  },
  {
   "cell_type": "code",
   "execution_count": 14,
   "id": "070f47d4-11a8-409d-9813-8ef4a5122e17",
   "metadata": {},
   "outputs": [
    {
     "data": {
      "text/plain": [
       "[(100, 5), (50, 3), (300, 10), (259, 3), (999, 1)]"
      ]
     },
     "execution_count": 14,
     "metadata": {},
     "output_type": "execute_result"
    }
   ],
   "source": [
    "list(zip(prices, qty))"
   ]
  },
  {
   "cell_type": "code",
   "execution_count": 16,
   "id": "54403cc3-a9ba-49b3-b700-06111beec550",
   "metadata": {},
   "outputs": [
    {
     "name": "stdout",
     "output_type": "stream",
     "text": [
      "Price : 100 , Qty : 5 , Amount : 500\n",
      "Price : 50 , Qty : 3 , Amount : 150\n",
      "Price : 300 , Qty : 10 , Amount : 3000\n",
      "Price : 259 , Qty : 3 , Amount : 777\n",
      "Price : 999 , Qty : 1 , Amount : 999\n",
      "\n",
      "=============================================\n",
      "\n",
      "Total Before Tax : 5426.00 INR\n",
      "Tax 18% : 976.68 INR\n",
      "Billing Amount : 6402.68 INR\n"
     ]
    }
   ],
   "source": [
    "# Confirm price and qty are of same length\n",
    "assert len(prices) == len(qty)\n",
    "\n",
    "# Initalize total to 0\n",
    "total_before_tax = 0\n",
    "\n",
    "# Calculate total before tax\n",
    "for i, j in zip(prices, qty):\n",
    "    amt = i*j\n",
    "    print(f\"Price : {i} , Qty : {j} , Amount : {amt}\")\n",
    "    total_before_tax += amt\n",
    "\n",
    "# Calculate The tax of 18%\n",
    "tax = (18/100)*total_before_tax\n",
    "\n",
    "# Calculate total after tax\n",
    "total_after_tax = total_before_tax + tax\n",
    "\n",
    "# Print the results\n",
    "print('\\n=============================================\\n')\n",
    "print(f'Total Before Tax : {total_before_tax:.2f} INR')\n",
    "print(f'Tax 18% : {tax:.2f} INR')\n",
    "print(f'Billing Amount : {total_after_tax:.2f} INR')"
   ]
  },
  {
   "cell_type": "markdown",
   "id": "0f795b89-17b1-4709-9090-e5b482052c32",
   "metadata": {},
   "source": [
    "### List Comprehension - Single line for loops"
   ]
  },
  {
   "cell_type": "markdown",
   "id": "11e1460d-008a-4a8d-870a-0ed8bd46d679",
   "metadata": {},
   "source": [
    "### Write a python code to get squares of first n natural numbers"
   ]
  },
  {
   "cell_type": "code",
   "execution_count": 21,
   "id": "8fefb2a7-3bf0-44c0-9a11-3119c3dbde25",
   "metadata": {},
   "outputs": [
    {
     "data": {
      "text/plain": [
       "[1, 2, 3, 4, 5, 6, 7, 8, 9]"
      ]
     },
     "execution_count": 21,
     "metadata": {},
     "output_type": "execute_result"
    }
   ],
   "source": [
    "list(range(1, 10))"
   ]
  },
  {
   "cell_type": "code",
   "execution_count": 23,
   "id": "faf9a0c1-832f-4326-adf5-259dbb15c18c",
   "metadata": {},
   "outputs": [
    {
     "data": {
      "text/plain": [
       "[1, 2, 3, 4, 5, 6, 7, 8, 9, 10]"
      ]
     },
     "execution_count": 23,
     "metadata": {},
     "output_type": "execute_result"
    }
   ],
   "source": [
    "list(range(1, 11))"
   ]
  },
  {
   "cell_type": "code",
   "execution_count": 25,
   "id": "2da5633a-70d0-4ca8-b0a4-0847adeeab31",
   "metadata": {},
   "outputs": [
    {
     "name": "stdin",
     "output_type": "stream",
     "text": [
      "Please enter n :  15\n"
     ]
    },
    {
     "name": "stdout",
     "output_type": "stream",
     "text": [
      "[1, 4, 9, 16, 25, 36, 49, 64, 81, 100, 121, 144, 169, 196, 225]\n"
     ]
    }
   ],
   "source": [
    "# Normal for loop\n",
    "n = int(input(\"Please enter n : \"))\n",
    "sqr = []\n",
    "for i in range(1, n+1):\n",
    "    sqr.append(i**2)\n",
    "print(sqr)"
   ]
  },
  {
   "cell_type": "code",
   "execution_count": 27,
   "id": "2cf33595-f346-4ff9-898d-a271ce59db1c",
   "metadata": {},
   "outputs": [
    {
     "name": "stdin",
     "output_type": "stream",
     "text": [
      "Please enter n :  20\n"
     ]
    },
    {
     "name": "stdout",
     "output_type": "stream",
     "text": [
      "[1, 4, 9, 16, 25, 36, 49, 64, 81, 100, 121, 144, 169, 196, 225, 256, 289, 324, 361, 400]\n"
     ]
    }
   ],
   "source": [
    "# List Comprehension\n",
    "n = int(input(\"Please enter n : \"))\n",
    "# Apply list comprehension\n",
    "sqr = [i**2 for i in range(1, n+1)]\n",
    "# Print the results\n",
    "print(sqr)"
   ]
  },
  {
   "cell_type": "markdown",
   "id": "dceaf1fa-d186-462d-b813-1fa46101b406",
   "metadata": {},
   "source": [
    "### From list of given numbers seperate even numbers and odd numbers"
   ]
  },
  {
   "cell_type": "code",
   "execution_count": 30,
   "id": "7f42f4e6-f916-432d-91d4-a18f5edd3879",
   "metadata": {},
   "outputs": [
    {
     "data": {
      "text/plain": [
       "[10, 15, 13, 11, 12, 14, 16, 18, 202, 17, 111]"
      ]
     },
     "execution_count": 30,
     "metadata": {},
     "output_type": "execute_result"
    }
   ],
   "source": [
    "a = [10, 15, 13, 11, 12, 14, 16, 18, 202, 17, 111]\n",
    "a"
   ]
  },
  {
   "cell_type": "code",
   "execution_count": 32,
   "id": "7ea440e8-c35f-44c2-be16-f93dcdfb8b76",
   "metadata": {},
   "outputs": [
    {
     "data": {
      "text/plain": [
       "[10, 12, 14, 16, 18, 202]"
      ]
     },
     "execution_count": 32,
     "metadata": {},
     "output_type": "execute_result"
    }
   ],
   "source": [
    "even = [i for i in a if i%2==0]\n",
    "even"
   ]
  },
  {
   "cell_type": "code",
   "execution_count": 34,
   "id": "4b8b51fa-35f8-47bb-b197-f034ce0f7ff8",
   "metadata": {},
   "outputs": [
    {
     "data": {
      "text/plain": [
       "[15, 13, 11, 17, 111]"
      ]
     },
     "execution_count": 34,
     "metadata": {},
     "output_type": "execute_result"
    }
   ],
   "source": [
    "odd = [i for i in a if i%2!=0]\n",
    "odd"
   ]
  },
  {
   "cell_type": "markdown",
   "id": "8c35cb3b-fa6a-4456-afdb-d09352116854",
   "metadata": {},
   "source": [
    "### Print whether number is even or odd from a given list"
   ]
  },
  {
   "cell_type": "code",
   "execution_count": 38,
   "id": "fdca4bc4-8a47-41e2-9d1d-c2d08aa43252",
   "metadata": {},
   "outputs": [
    {
     "data": {
      "text/plain": [
       "'odd'"
      ]
     },
     "execution_count": 38,
     "metadata": {},
     "output_type": "execute_result"
    }
   ],
   "source": [
    "n = 55\n",
    "\"even\" if n%2==0 else \"odd\""
   ]
  },
  {
   "cell_type": "code",
   "execution_count": 73,
   "id": "3b4e445d-b738-45e9-bbb4-03433a6536aa",
   "metadata": {},
   "outputs": [],
   "source": [
    "oe = [\"even\" if i%2==0 else \"odd\" for i in a]"
   ]
  },
  {
   "cell_type": "code",
   "execution_count": 74,
   "id": "e90872fd-d7aa-4eb8-aec6-6720fde696db",
   "metadata": {},
   "outputs": [],
   "source": [
    "oe2 = []\n",
    "for i in a:\n",
    "    if i%2==0:\n",
    "        oe2.append(\"even\")\n",
    "    else:\n",
    "        oe2.append(\"odd\")"
   ]
  },
  {
   "cell_type": "code",
   "execution_count": 75,
   "id": "098f8b84-e04f-4b2c-8e88-651dd86bd5e1",
   "metadata": {},
   "outputs": [
    {
     "name": "stdout",
     "output_type": "stream",
     "text": [
      "[10, 15, 13, 11, 12, 14, 16, 18, 202, 17, 111]\n",
      "['even', 'odd', 'odd', 'odd', 'even', 'even', 'even', 'even', 'even', 'odd', 'odd']\n"
     ]
    }
   ],
   "source": [
    "print(a)\n",
    "print(oe)"
   ]
  },
  {
   "cell_type": "markdown",
   "id": "b233bef9-a167-496d-b78e-70ac0f4e2b46",
   "metadata": {},
   "source": [
    "### Dictionaries"
   ]
  },
  {
   "attachments": {
    "01321e8b-76de-40f4-b22c-095ddc00fe7c.png": {
     "image/png": "[encoded data removed]"
    }
   },
   "cell_type": "markdown",
   "id": "000fea8a-d885-4bc7-8aac-d527c0aa2704",
   "metadata": {},
   "source": [
    "![image.png](attachment:01321e8b-76de-40f4-b22c-095ddc00fe7c.png)"
   ]
  },
  {
   "cell_type": "markdown",
   "id": "f02a73cb-e69e-41ea-9f27-e073f7e39906",
   "metadata": {},
   "source": [
    "### Set (single value added) - only unique values are considered"
   ]
  },
  {
   "cell_type": "code",
   "execution_count": 87,
   "id": "883987cc-730b-4431-8779-941437b4d8b6",
   "metadata": {},
   "outputs": [
    {
     "data": {
      "text/plain": [
       "set"
      ]
     },
     "execution_count": 87,
     "metadata": {},
     "output_type": "execute_result"
    }
   ],
   "source": [
    "a = {1, 2, 3, 4, 2, 3, 1}\n",
    "type(a)"
   ]
  },
  {
   "cell_type": "code",
   "execution_count": 89,
   "id": "54b4a511-43b0-4fcb-9b93-a10086807947",
   "metadata": {},
   "outputs": [
    {
     "data": {
      "text/plain": [
       "{1, 2, 3, 4}"
      ]
     },
     "execution_count": 89,
     "metadata": {},
     "output_type": "execute_result"
    }
   ],
   "source": [
    "a"
   ]
  },
  {
   "cell_type": "code",
   "execution_count": 93,
   "id": "06bbf972-0718-48d6-ae28-999be242628c",
   "metadata": {},
   "outputs": [
    {
     "ename": "TypeError",
     "evalue": "'set' object is not subscriptable",
     "output_type": "error",
     "traceback": [
      "\u001b[1;31m---------------------------------------------------------------------------\u001b[0m",
      "\u001b[1;31mTypeError\u001b[0m                                 Traceback (most recent call last)",
      "Cell \u001b[1;32mIn[93], line 1\u001b[0m\n\u001b[1;32m----> 1\u001b[0m a[\u001b[38;5;241m0\u001b[39m]\n",
      "\u001b[1;31mTypeError\u001b[0m: 'set' object is not subscriptable"
     ]
    }
   ],
   "source": [
    "a[0]"
   ]
  },
  {
   "cell_type": "markdown",
   "id": "76388856-85c7-4a9d-96a6-dd3b34fe42ad",
   "metadata": {},
   "source": [
    "### Dictionary , Requires Key Value pairs\n",
    "1. Keys of a dictionary should be unique"
   ]
  },
  {
   "cell_type": "code",
   "execution_count": 98,
   "id": "234dcd0d-f429-42ab-b81a-28e255f425ee",
   "metadata": {},
   "outputs": [
    {
     "data": {
      "text/plain": [
       "dict"
      ]
     },
     "execution_count": 98,
     "metadata": {},
     "output_type": "execute_result"
    }
   ],
   "source": [
    "d = { \"a\": 1, \"b\":2, \"c\":3 , \"d\":4 }\n",
    "type(d)"
   ]
  },
  {
   "cell_type": "code",
   "execution_count": 100,
   "id": "50ef4915-c3fd-4c23-bea5-cf00894c826e",
   "metadata": {},
   "outputs": [
    {
     "data": {
      "text/plain": [
       "{'a': 1, 'b': 2, 'c': 3, 'd': 4}"
      ]
     },
     "execution_count": 100,
     "metadata": {},
     "output_type": "execute_result"
    }
   ],
   "source": [
    "d"
   ]
  },
  {
   "cell_type": "code",
   "execution_count": 102,
   "id": "73111b85-7ce1-4de9-bc9b-6e7a72aa206d",
   "metadata": {},
   "outputs": [
    {
     "data": {
      "text/plain": [
       "2"
      ]
     },
     "execution_count": 102,
     "metadata": {},
     "output_type": "execute_result"
    }
   ],
   "source": [
    "d[\"b\"]"
   ]
  },
  {
   "cell_type": "code",
   "execution_count": 104,
   "id": "86c75800-e3a7-42c9-8be5-b8270e307452",
   "metadata": {},
   "outputs": [
    {
     "data": {
      "text/plain": [
       "1"
      ]
     },
     "execution_count": 104,
     "metadata": {},
     "output_type": "execute_result"
    }
   ],
   "source": [
    "d[\"a\"]"
   ]
  },
  {
   "cell_type": "code",
   "execution_count": 106,
   "id": "b3395bba-efd1-4e89-8104-e69a02d15a6a",
   "metadata": {},
   "outputs": [],
   "source": [
    "emp = {\n",
    "    \"emp_id\" : 103,\n",
    "    \"name\" : \"Utkarsh Gaikwad\",\n",
    "    \"email\" : (\"utkarsh@gmail.com\", \"utkarsh@etlhive.com\"),\n",
    "    \"contact\" : [9876543210, 7654321098, 5432109876],\n",
    "    \"salary\" : 25000.78,\n",
    "    \"married\" : True\n",
    "}"
   ]
  },
  {
   "cell_type": "code",
   "execution_count": 108,
   "id": "9e096945-d067-47d0-b5b5-14a7ca09eff8",
   "metadata": {},
   "outputs": [
    {
     "data": {
      "text/plain": [
       "'Utkarsh Gaikwad'"
      ]
     },
     "execution_count": 108,
     "metadata": {},
     "output_type": "execute_result"
    }
   ],
   "source": [
    "emp[\"name\"]"
   ]
  },
  {
   "cell_type": "code",
   "execution_count": 110,
   "id": "36cfc330-75a8-4925-855d-e749eb22e0a1",
   "metadata": {},
   "outputs": [
    {
     "data": {
      "text/plain": [
       "25000.78"
      ]
     },
     "execution_count": 110,
     "metadata": {},
     "output_type": "execute_result"
    }
   ],
   "source": [
    "emp[\"salary\"]"
   ]
  },
  {
   "cell_type": "code",
   "execution_count": 112,
   "id": "57798bed-09ec-4918-be5b-cf0164dce7ec",
   "metadata": {},
   "outputs": [
    {
     "ename": "KeyError",
     "evalue": "'height'",
     "output_type": "error",
     "traceback": [
      "\u001b[1;31m---------------------------------------------------------------------------\u001b[0m",
      "\u001b[1;31mKeyError\u001b[0m                                  Traceback (most recent call last)",
      "Cell \u001b[1;32mIn[112], line 1\u001b[0m\n\u001b[1;32m----> 1\u001b[0m emp[\u001b[38;5;124m\"\u001b[39m\u001b[38;5;124mheight\u001b[39m\u001b[38;5;124m\"\u001b[39m]\n",
      "\u001b[1;31mKeyError\u001b[0m: 'height'"
     ]
    }
   ],
   "source": [
    "emp[\"height\"]"
   ]
  },
  {
   "cell_type": "code",
   "execution_count": 116,
   "id": "50722c8f-be96-43b7-9f7a-2c71079a1814",
   "metadata": {},
   "outputs": [
    {
     "name": "stdout",
     "output_type": "stream",
     "text": [
      "None\n"
     ]
    }
   ],
   "source": [
    "print(emp.get(\"height\"))"
   ]
  },
  {
   "cell_type": "code",
   "execution_count": 118,
   "id": "c329a008-0891-40a1-8e3c-1c0603e569e2",
   "metadata": {},
   "outputs": [
    {
     "data": {
      "text/plain": [
       "('utkarsh@gmail.com', 'utkarsh@etlhive.com')"
      ]
     },
     "execution_count": 118,
     "metadata": {},
     "output_type": "execute_result"
    }
   ],
   "source": [
    "emp.get(\"email\")"
   ]
  },
  {
   "cell_type": "code",
   "execution_count": 120,
   "id": "5ced8b80-4b05-4e1d-8e16-1580e6cbfd86",
   "metadata": {},
   "outputs": [
    {
     "data": {
      "text/plain": [
       "'utkarsh@etlhive.com'"
      ]
     },
     "execution_count": 120,
     "metadata": {},
     "output_type": "execute_result"
    }
   ],
   "source": [
    "emp.get(\"email\")[1]"
   ]
  },
  {
   "cell_type": "code",
   "execution_count": 122,
   "id": "b7bddf1d-681c-4e9b-a6e7-8b49d5a25005",
   "metadata": {},
   "outputs": [
    {
     "data": {
      "text/plain": [
       "'utkarsh@gmail.com'"
      ]
     },
     "execution_count": 122,
     "metadata": {},
     "output_type": "execute_result"
    }
   ],
   "source": [
    "emp.get(\"email\")[0]"
   ]
  },
  {
   "cell_type": "markdown",
   "id": "9c059895-5c06-40a1-a756-350ca79890b8",
   "metadata": {},
   "source": [
    "### Add additional information"
   ]
  },
  {
   "cell_type": "code",
   "execution_count": 125,
   "id": "38bd44d1-b625-425b-99e5-9c6f5b3afb2d",
   "metadata": {},
   "outputs": [],
   "source": [
    "emp[\"blood_group\"] = \"A+ve\""
   ]
  },
  {
   "cell_type": "code",
   "execution_count": 127,
   "id": "466b2f5c-e792-44be-bf41-ac28c517e9f0",
   "metadata": {},
   "outputs": [
    {
     "data": {
      "text/plain": [
       "{'emp_id': 103,\n",
       " 'name': 'Utkarsh Gaikwad',\n",
       " 'email': ('utkarsh@gmail.com', 'utkarsh@etlhive.com'),\n",
       " 'contact': [9876543210, 7654321098, 5432109876],\n",
       " 'salary': 25000.78,\n",
       " 'married': True,\n",
       " 'blood_group': 'A+ve'}"
      ]
     },
     "execution_count": 127,
     "metadata": {},
     "output_type": "execute_result"
    }
   ],
   "source": [
    "emp"
   ]
  },
  {
   "cell_type": "code",
   "execution_count": 129,
   "id": "ba70a00d-381a-4317-abc4-e60a5fc8439d",
   "metadata": {},
   "outputs": [],
   "source": [
    "emp[\"weight\"] = 65.3"
   ]
  },
  {
   "cell_type": "code",
   "execution_count": 131,
   "id": "97fa0cc0-7ecf-432d-8965-e57815c0d59b",
   "metadata": {},
   "outputs": [
    {
     "data": {
      "text/plain": [
       "{'emp_id': 103,\n",
       " 'name': 'Utkarsh Gaikwad',\n",
       " 'email': ('utkarsh@gmail.com', 'utkarsh@etlhive.com'),\n",
       " 'contact': [9876543210, 7654321098, 5432109876],\n",
       " 'salary': 25000.78,\n",
       " 'married': True,\n",
       " 'blood_group': 'A+ve',\n",
       " 'weight': 65.3}"
      ]
     },
     "execution_count": 131,
     "metadata": {},
     "output_type": "execute_result"
    }
   ],
   "source": [
    "emp"
   ]
  },
  {
   "cell_type": "markdown",
   "id": "8e48043e-3def-4098-90e8-b00bf4b29934",
   "metadata": {},
   "source": [
    "### Updating salary of an employee"
   ]
  },
  {
   "cell_type": "code",
   "execution_count": 134,
   "id": "a53b991b-5de1-42c4-9100-03c701729a9d",
   "metadata": {},
   "outputs": [
    {
     "data": {
      "text/plain": [
       "25000.78"
      ]
     },
     "execution_count": 134,
     "metadata": {},
     "output_type": "execute_result"
    }
   ],
   "source": [
    "emp[\"salary\"] "
   ]
  },
  {
   "cell_type": "code",
   "execution_count": 136,
   "id": "7dcdf17b-c035-4f91-9f4c-ff0f189b34d4",
   "metadata": {},
   "outputs": [],
   "source": [
    "emp[\"salary\"] = 35000.65"
   ]
  },
  {
   "cell_type": "code",
   "execution_count": 138,
   "id": "81375fd3-2c6a-427d-b22c-29256a3d39d4",
   "metadata": {},
   "outputs": [
    {
     "data": {
      "text/plain": [
       "{'emp_id': 103,\n",
       " 'name': 'Utkarsh Gaikwad',\n",
       " 'email': ('utkarsh@gmail.com', 'utkarsh@etlhive.com'),\n",
       " 'contact': [9876543210, 7654321098, 5432109876],\n",
       " 'salary': 35000.65,\n",
       " 'married': True,\n",
       " 'blood_group': 'A+ve',\n",
       " 'weight': 65.3}"
      ]
     },
     "execution_count": 138,
     "metadata": {},
     "output_type": "execute_result"
    }
   ],
   "source": [
    "emp"
   ]
  },
  {
   "cell_type": "markdown",
   "id": "dafef458-c173-4659-9fdf-ca28fd9cecf6",
   "metadata": {},
   "source": [
    "### Functions inside dictionary"
   ]
  },
  {
   "cell_type": "code",
   "execution_count": 141,
   "id": "0563ddc8-8314-4375-9be7-9f73381a5bb5",
   "metadata": {},
   "outputs": [
    {
     "data": {
      "text/plain": [
       "dict"
      ]
     },
     "execution_count": 141,
     "metadata": {},
     "output_type": "execute_result"
    }
   ],
   "source": [
    "type(emp)"
   ]
  },
  {
   "cell_type": "code",
   "execution_count": 143,
   "id": "f14e7fba-af5f-40d5-a5bd-cf92895097d5",
   "metadata": {},
   "outputs": [
    {
     "data": {
      "text/plain": [
       "['__class__',\n",
       " '__class_getitem__',\n",
       " '__contains__',\n",
       " '__delattr__',\n",
       " '__delitem__',\n",
       " '__dir__',\n",
       " '__doc__',\n",
       " '__eq__',\n",
       " '__format__',\n",
       " '__ge__',\n",
       " '__getattribute__',\n",
       " '__getitem__',\n",
       " '__getstate__',\n",
       " '__gt__',\n",
       " '__hash__',\n",
       " '__init__',\n",
       " '__init_subclass__',\n",
       " '__ior__',\n",
       " '__iter__',\n",
       " '__le__',\n",
       " '__len__',\n",
       " '__lt__',\n",
       " '__ne__',\n",
       " '__new__',\n",
       " '__or__',\n",
       " '__reduce__',\n",
       " '__reduce_ex__',\n",
       " '__repr__',\n",
       " '__reversed__',\n",
       " '__ror__',\n",
       " '__setattr__',\n",
       " '__setitem__',\n",
       " '__sizeof__',\n",
       " '__str__',\n",
       " '__subclasshook__',\n",
       " 'clear',\n",
       " 'copy',\n",
       " 'fromkeys',\n",
       " 'get',\n",
       " 'items',\n",
       " 'keys',\n",
       " 'pop',\n",
       " 'popitem',\n",
       " 'setdefault',\n",
       " 'update',\n",
       " 'values']"
      ]
     },
     "execution_count": 143,
     "metadata": {},
     "output_type": "execute_result"
    }
   ],
   "source": [
    "dir(dict)"
   ]
  },
  {
   "cell_type": "code",
   "execution_count": 149,
   "id": "154a3fe0-3d2b-4bec-b152-d657b97c51f9",
   "metadata": {},
   "outputs": [],
   "source": [
    "g = {\n",
    "    101: \"A\", \n",
    "    102 : \"B\", \n",
    "    103: \"C\"\n",
    "}"
   ]
  },
  {
   "cell_type": "code",
   "execution_count": 151,
   "id": "8914be90-adfa-4e41-b902-09a8188083a7",
   "metadata": {},
   "outputs": [
    {
     "data": {
      "text/plain": [
       "dict"
      ]
     },
     "execution_count": 151,
     "metadata": {},
     "output_type": "execute_result"
    }
   ],
   "source": [
    "type(g)"
   ]
  },
  {
   "cell_type": "code",
   "execution_count": 153,
   "id": "87959149-344b-4727-876b-a4914b955198",
   "metadata": {},
   "outputs": [],
   "source": [
    "g.clear()"
   ]
  },
  {
   "cell_type": "code",
   "execution_count": 155,
   "id": "3a3d2bda-ada4-4eaa-88ed-0c2a7156d368",
   "metadata": {},
   "outputs": [
    {
     "data": {
      "text/plain": [
       "{}"
      ]
     },
     "execution_count": 155,
     "metadata": {},
     "output_type": "execute_result"
    }
   ],
   "source": [
    "g"
   ]
  },
  {
   "cell_type": "code",
   "execution_count": 157,
   "id": "ca519ce9-9738-43df-89ce-5572ea3ed0d3",
   "metadata": {},
   "outputs": [],
   "source": [
    "h = {\n",
    "    101: \"A\", \n",
    "    102 : \"B\", \n",
    "    103: \"C\"\n",
    "} "
   ]
  },
  {
   "cell_type": "code",
   "execution_count": 161,
   "id": "753e49f1-cb81-4076-bd36-ae75cf292832",
   "metadata": {},
   "outputs": [],
   "source": [
    "# Creates a deepcopy (Any changes in one dictionary will affect other)\n",
    "m = h"
   ]
  },
  {
   "cell_type": "code",
   "execution_count": 163,
   "id": "7de7afc9-0064-4afc-b6f6-8103bf786dd4",
   "metadata": {},
   "outputs": [
    {
     "data": {
      "text/plain": [
       "{101: 'A', 102: 'B', 103: 'C'}"
      ]
     },
     "execution_count": 163,
     "metadata": {},
     "output_type": "execute_result"
    }
   ],
   "source": [
    "m"
   ]
  },
  {
   "cell_type": "code",
   "execution_count": 165,
   "id": "9b1a6187-8300-4511-9f64-bda6c05a4b11",
   "metadata": {},
   "outputs": [],
   "source": [
    "m[104] = \"D\""
   ]
  },
  {
   "cell_type": "code",
   "execution_count": 167,
   "id": "3319e158-eabf-4339-9347-7b8b9e4a079a",
   "metadata": {},
   "outputs": [
    {
     "data": {
      "text/plain": [
       "{101: 'A', 102: 'B', 103: 'C', 104: 'D'}"
      ]
     },
     "execution_count": 167,
     "metadata": {},
     "output_type": "execute_result"
    }
   ],
   "source": [
    "m"
   ]
  },
  {
   "cell_type": "code",
   "execution_count": 169,
   "id": "7200e727-f9ea-4aaa-8b18-af9aa6e28957",
   "metadata": {},
   "outputs": [
    {
     "data": {
      "text/plain": [
       "{101: 'A', 102: 'B', 103: 'C', 104: 'D'}"
      ]
     },
     "execution_count": 169,
     "metadata": {},
     "output_type": "execute_result"
    }
   ],
   "source": [
    "h"
   ]
  },
  {
   "cell_type": "code",
   "execution_count": 171,
   "id": "927f717b-8218-43ba-b3c5-b1a0045e52ac",
   "metadata": {},
   "outputs": [],
   "source": [
    "h[103] = \"A\""
   ]
  },
  {
   "cell_type": "code",
   "execution_count": 173,
   "id": "2fa3ddc5-ceed-4f1a-975c-41cc6f9ba9c6",
   "metadata": {},
   "outputs": [
    {
     "data": {
      "text/plain": [
       "{101: 'A', 102: 'B', 103: 'A', 104: 'D'}"
      ]
     },
     "execution_count": 173,
     "metadata": {},
     "output_type": "execute_result"
    }
   ],
   "source": [
    "h"
   ]
  },
  {
   "cell_type": "code",
   "execution_count": 175,
   "id": "a57b4561-5fd1-4fce-ace6-fc520a85b69a",
   "metadata": {},
   "outputs": [
    {
     "data": {
      "text/plain": [
       "{101: 'A', 102: 'B', 103: 'A', 104: 'D'}"
      ]
     },
     "execution_count": 175,
     "metadata": {},
     "output_type": "execute_result"
    }
   ],
   "source": [
    "m"
   ]
  },
  {
   "cell_type": "markdown",
   "id": "4a36783d-0fae-4fd0-be3f-2a9996a021b9",
   "metadata": {},
   "source": [
    "### Create a shallow copy of H dictionary \n",
    "Change in one dictionary does not affect other\n",
    ".copy()"
   ]
  },
  {
   "cell_type": "code",
   "execution_count": 180,
   "id": "cf84d8ac-58f5-48c8-9e61-a61dcb3538d0",
   "metadata": {},
   "outputs": [],
   "source": [
    "n = h.copy()"
   ]
  },
  {
   "cell_type": "code",
   "execution_count": 182,
   "id": "f486667c-a618-4ef9-b266-0328633dec42",
   "metadata": {},
   "outputs": [
    {
     "data": {
      "text/plain": [
       "{101: 'A', 102: 'B', 103: 'A', 104: 'D'}"
      ]
     },
     "execution_count": 182,
     "metadata": {},
     "output_type": "execute_result"
    }
   ],
   "source": [
    "n"
   ]
  },
  {
   "cell_type": "code",
   "execution_count": 184,
   "id": "2726ccc8-4445-4785-bce3-8b2bde291644",
   "metadata": {},
   "outputs": [
    {
     "data": {
      "text/plain": [
       "{101: 'A', 102: 'B', 103: 'A', 104: 'D'}"
      ]
     },
     "execution_count": 184,
     "metadata": {},
     "output_type": "execute_result"
    }
   ],
   "source": [
    "h"
   ]
  },
  {
   "cell_type": "code",
   "execution_count": 186,
   "id": "26702169-347f-42aa-8bb7-f201a1e00c7d",
   "metadata": {},
   "outputs": [],
   "source": [
    "n[105] = \"K\""
   ]
  },
  {
   "cell_type": "code",
   "execution_count": 188,
   "id": "4688f424-201f-47db-ac75-dc6e611aacdb",
   "metadata": {},
   "outputs": [
    {
     "data": {
      "text/plain": [
       "{101: 'A', 102: 'B', 103: 'A', 104: 'D', 105: 'K'}"
      ]
     },
     "execution_count": 188,
     "metadata": {},
     "output_type": "execute_result"
    }
   ],
   "source": [
    "n"
   ]
  },
  {
   "cell_type": "code",
   "execution_count": 190,
   "id": "0dcb96e8-98c6-4462-8041-6d9863236d2c",
   "metadata": {},
   "outputs": [
    {
     "data": {
      "text/plain": [
       "{101: 'A', 102: 'B', 103: 'A', 104: 'D'}"
      ]
     },
     "execution_count": 190,
     "metadata": {},
     "output_type": "execute_result"
    }
   ],
   "source": [
    "h"
   ]
  },
  {
   "cell_type": "code",
   "execution_count": 192,
   "id": "d3251e78-9260-4c23-9e96-02cd7c4e499c",
   "metadata": {},
   "outputs": [],
   "source": [
    "h[200] = \"L\""
   ]
  },
  {
   "cell_type": "code",
   "execution_count": 194,
   "id": "64509d05-08f8-4f2f-b96f-754de5c73675",
   "metadata": {},
   "outputs": [
    {
     "data": {
      "text/plain": [
       "{101: 'A', 102: 'B', 103: 'A', 104: 'D', 200: 'L'}"
      ]
     },
     "execution_count": 194,
     "metadata": {},
     "output_type": "execute_result"
    }
   ],
   "source": [
    "h"
   ]
  },
  {
   "cell_type": "code",
   "execution_count": 196,
   "id": "b13ea26e-0b31-411d-80ef-184434043b00",
   "metadata": {},
   "outputs": [
    {
     "data": {
      "text/plain": [
       "{101: 'A', 102: 'B', 103: 'A', 104: 'D', 105: 'K'}"
      ]
     },
     "execution_count": 196,
     "metadata": {},
     "output_type": "execute_result"
    }
   ],
   "source": [
    "n"
   ]
  },
  {
   "cell_type": "markdown",
   "id": "58d3da47-dfe8-4b09-b052-d312081ed748",
   "metadata": {},
   "source": [
    "## Getting keys and values"
   ]
  },
  {
   "cell_type": "code",
   "execution_count": 199,
   "id": "425da79d-2464-4c73-84fa-cd03ee5a4330",
   "metadata": {},
   "outputs": [
    {
     "data": {
      "text/plain": [
       "{'emp_id': 103,\n",
       " 'name': 'Utkarsh Gaikwad',\n",
       " 'email': ('utkarsh@gmail.com', 'utkarsh@etlhive.com'),\n",
       " 'contact': [9876543210, 7654321098, 5432109876],\n",
       " 'salary': 35000.65,\n",
       " 'married': True,\n",
       " 'blood_group': 'A+ve',\n",
       " 'weight': 65.3}"
      ]
     },
     "execution_count": 199,
     "metadata": {},
     "output_type": "execute_result"
    }
   ],
   "source": [
    "emp"
   ]
  },
  {
   "cell_type": "code",
   "execution_count": 207,
   "id": "8525c65a-1809-4b75-a05c-9f1bfd006e9d",
   "metadata": {},
   "outputs": [
    {
     "data": {
      "text/plain": [
       "dict_keys(['emp_id', 'name', 'email', 'contact', 'salary', 'married', 'blood_group', 'weight'])"
      ]
     },
     "execution_count": 207,
     "metadata": {},
     "output_type": "execute_result"
    }
   ],
   "source": [
    "emp.keys()"
   ]
  },
  {
   "cell_type": "code",
   "execution_count": 209,
   "id": "2dd8871b-3a89-4857-a1fc-73c45609e7e3",
   "metadata": {},
   "outputs": [
    {
     "data": {
      "text/plain": [
       "dict_values([103, 'Utkarsh Gaikwad', ('utkarsh@gmail.com', 'utkarsh@etlhive.com'), [9876543210, 7654321098, 5432109876], 35000.65, True, 'A+ve', 65.3])"
      ]
     },
     "execution_count": 209,
     "metadata": {},
     "output_type": "execute_result"
    }
   ],
   "source": [
    "emp.values()"
   ]
  },
  {
   "cell_type": "markdown",
   "id": "cf826fb3-a523-4ec1-8f11-bf25d88c0db1",
   "metadata": {},
   "source": [
    "### Getting combination of key and values\n",
    "dct.items()"
   ]
  },
  {
   "cell_type": "code",
   "execution_count": 219,
   "id": "72450152-0d1d-47fb-8fe7-cced9f907592",
   "metadata": {},
   "outputs": [
    {
     "data": {
      "text/plain": [
       "dict_items([('emp_id', 103), ('name', 'Utkarsh Gaikwad'), ('email', ('utkarsh@gmail.com', 'utkarsh@etlhive.com')), ('contact', [9876543210, 7654321098, 5432109876]), ('salary', 35000.65), ('married', True), ('blood_group', 'A+ve'), ('weight', 65.3)])"
      ]
     },
     "execution_count": 219,
     "metadata": {},
     "output_type": "execute_result"
    }
   ],
   "source": [
    "emp.items()"
   ]
  },
  {
   "cell_type": "code",
   "execution_count": 221,
   "id": "28b98ff8-560e-4811-bc8a-513e1b3cdf6e",
   "metadata": {},
   "outputs": [
    {
     "name": "stdout",
     "output_type": "stream",
     "text": [
      "emp_id : 103\n",
      "name : Utkarsh Gaikwad\n",
      "email : ('utkarsh@gmail.com', 'utkarsh@etlhive.com')\n",
      "contact : [9876543210, 7654321098, 5432109876]\n",
      "salary : 35000.65\n",
      "married : True\n",
      "blood_group : A+ve\n",
      "weight : 65.3\n"
     ]
    }
   ],
   "source": [
    "for key, value in emp.items():\n",
    "    print(f\"{key} : {value}\")"
   ]
  },
  {
   "cell_type": "code",
   "execution_count": 223,
   "id": "1430e3a3-8b33-49bc-ad77-b1287412c81d",
   "metadata": {},
   "outputs": [
    {
     "data": {
      "text/plain": [
       "[9876543210, 7654321098, 5432109876]"
      ]
     },
     "execution_count": 223,
     "metadata": {},
     "output_type": "execute_result"
    }
   ],
   "source": [
    "emp[\"contact\"]"
   ]
  },
  {
   "cell_type": "code",
   "execution_count": 225,
   "id": "e06b9bce-3d63-4d04-8e3b-5c0525f0232e",
   "metadata": {},
   "outputs": [
    {
     "data": {
      "text/plain": [
       "[9876543210, 7654321098, 5432109876]"
      ]
     },
     "execution_count": 225,
     "metadata": {},
     "output_type": "execute_result"
    }
   ],
   "source": [
    "emp.get(\"contact\")"
   ]
  },
  {
   "cell_type": "markdown",
   "id": "24a4160c-ea50-456e-83c2-d7b4aeafbc4a",
   "metadata": {},
   "source": [
    "### Removing value by key inside dictionaries\n",
    ".pop(key)"
   ]
  },
  {
   "cell_type": "code",
   "execution_count": 229,
   "id": "b5b70a77-bfad-48d9-be05-1e9bc38c0849",
   "metadata": {},
   "outputs": [
    {
     "data": {
      "text/plain": [
       "{'emp_id': 103,\n",
       " 'name': 'Utkarsh Gaikwad',\n",
       " 'email': ('utkarsh@gmail.com', 'utkarsh@etlhive.com'),\n",
       " 'contact': [9876543210, 7654321098, 5432109876],\n",
       " 'salary': 35000.65,\n",
       " 'married': True,\n",
       " 'blood_group': 'A+ve',\n",
       " 'weight': 65.3}"
      ]
     },
     "execution_count": 229,
     "metadata": {},
     "output_type": "execute_result"
    }
   ],
   "source": [
    "emp"
   ]
  },
  {
   "cell_type": "code",
   "execution_count": 231,
   "id": "6dc1b3df-4f32-45e1-834b-8f7c10bd8927",
   "metadata": {},
   "outputs": [
    {
     "data": {
      "text/plain": [
       "True"
      ]
     },
     "execution_count": 231,
     "metadata": {},
     "output_type": "execute_result"
    }
   ],
   "source": [
    "emp.pop(\"married\")"
   ]
  },
  {
   "cell_type": "code",
   "execution_count": 233,
   "id": "591c9a0a-0e9d-4c0f-afda-534ad333fcdf",
   "metadata": {},
   "outputs": [
    {
     "data": {
      "text/plain": [
       "{'emp_id': 103,\n",
       " 'name': 'Utkarsh Gaikwad',\n",
       " 'email': ('utkarsh@gmail.com', 'utkarsh@etlhive.com'),\n",
       " 'contact': [9876543210, 7654321098, 5432109876],\n",
       " 'salary': 35000.65,\n",
       " 'blood_group': 'A+ve',\n",
       " 'weight': 65.3}"
      ]
     },
     "execution_count": 233,
     "metadata": {},
     "output_type": "execute_result"
    }
   ],
   "source": [
    "emp"
   ]
  },
  {
   "cell_type": "code",
   "execution_count": 235,
   "id": "20b1e58d-4300-42ce-a10c-bb0cd05c5099",
   "metadata": {},
   "outputs": [
    {
     "ename": "KeyError",
     "evalue": "'height'",
     "output_type": "error",
     "traceback": [
      "\u001b[1;31m---------------------------------------------------------------------------\u001b[0m",
      "\u001b[1;31mKeyError\u001b[0m                                  Traceback (most recent call last)",
      "Cell \u001b[1;32mIn[235], line 1\u001b[0m\n\u001b[1;32m----> 1\u001b[0m emp\u001b[38;5;241m.\u001b[39mpop(\u001b[38;5;124m\"\u001b[39m\u001b[38;5;124mheight\u001b[39m\u001b[38;5;124m\"\u001b[39m)\n",
      "\u001b[1;31mKeyError\u001b[0m: 'height'"
     ]
    }
   ],
   "source": [
    "emp.pop(\"height\")"
   ]
  },
  {
   "cell_type": "markdown",
   "id": "e0458066-7b5d-4032-be7a-34c6ea77e1b8",
   "metadata": {},
   "source": [
    "### Removing last item in dictionary"
   ]
  },
  {
   "cell_type": "code",
   "execution_count": 238,
   "id": "d7684cc5-ae35-498a-bfc6-617e1c76dbcb",
   "metadata": {},
   "outputs": [
    {
     "data": {
      "text/plain": [
       "('weight', 65.3)"
      ]
     },
     "execution_count": 238,
     "metadata": {},
     "output_type": "execute_result"
    }
   ],
   "source": [
    "emp.popitem()"
   ]
  },
  {
   "cell_type": "code",
   "execution_count": 240,
   "id": "07b394ff-6847-4a54-8d05-f49040d83621",
   "metadata": {},
   "outputs": [
    {
     "data": {
      "text/plain": [
       "{'emp_id': 103,\n",
       " 'name': 'Utkarsh Gaikwad',\n",
       " 'email': ('utkarsh@gmail.com', 'utkarsh@etlhive.com'),\n",
       " 'contact': [9876543210, 7654321098, 5432109876],\n",
       " 'salary': 35000.65,\n",
       " 'blood_group': 'A+ve'}"
      ]
     },
     "execution_count": 240,
     "metadata": {},
     "output_type": "execute_result"
    }
   ],
   "source": [
    "emp"
   ]
  },
  {
   "cell_type": "markdown",
   "id": "6cd318e2-0449-4832-a35e-d951a090b863",
   "metadata": {},
   "source": [
    "### Update employee salary and contact"
   ]
  },
  {
   "cell_type": "code",
   "execution_count": 243,
   "id": "ba9ffb7a-fd0c-4327-b285-24a027c22133",
   "metadata": {},
   "outputs": [],
   "source": [
    "updated = {\n",
    "    \"salary\" : 45000.34,\n",
    "    \"contact\" : 6543210987\n",
    "}"
   ]
  },
  {
   "cell_type": "code",
   "execution_count": 245,
   "id": "47b9ab77-16ed-4c99-8e2b-07463d01007d",
   "metadata": {},
   "outputs": [],
   "source": [
    "emp.update(updated)"
   ]
  },
  {
   "cell_type": "code",
   "execution_count": 247,
   "id": "aa391738-9ff4-42e5-a8e3-5cd12f82600f",
   "metadata": {},
   "outputs": [
    {
     "data": {
      "text/plain": [
       "{'emp_id': 103,\n",
       " 'name': 'Utkarsh Gaikwad',\n",
       " 'email': ('utkarsh@gmail.com', 'utkarsh@etlhive.com'),\n",
       " 'contact': 6543210987,\n",
       " 'salary': 45000.34,\n",
       " 'blood_group': 'A+ve'}"
      ]
     },
     "execution_count": 247,
     "metadata": {},
     "output_type": "execute_result"
    }
   ],
   "source": [
    "emp"
   ]
  },
  {
   "cell_type": "code",
   "execution_count": null,
   "id": "3fa1cec6-171c-4b7d-801c-a34ccb4c2db4",
   "metadata": {},
   "outputs": [],
   "source": []
  }
 ],
 "metadata": {
  "kernelspec": {
   "display_name": "Python 3 (ipykernel)",
   "language": "python",
   "name": "python3"
  },
  "language_info": {
   "codemirror_mode": {
    "name": "ipython",
    "version": 3
   },
   "file_extension": ".py",
   "mimetype": "text/x-python",
   "name": "python",
   "nbconvert_exporter": "python",
   "pygments_lexer": "ipython3",
   "version": "3.12.4"
  }
 },
 "nbformat": 4,
 "nbformat_minor": 5
}
